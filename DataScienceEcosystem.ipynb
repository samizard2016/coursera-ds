{
 "cells": [
  {
   "cell_type": "markdown",
   "id": "69fe72be-aa6d-4edf-93f6-f0f55214a62b",
   "metadata": {},
   "source": [
    "# Data Science Tools and Ecosystem"
   ]
  },
  {
   "cell_type": "markdown",
   "id": "5cb11f70-3eec-4f93-a71f-b51ecbfaab3f",
   "metadata": {},
   "source": [
    "In this notebook, Data Science Tools and Ecosystem are summarized."
   ]
  },
  {
   "cell_type": "markdown",
   "id": "c96fa933-cd2b-4f92-b244-563b61238719",
   "metadata": {},
   "source": [
    "**In this excercise we will explore the following:**\n",
    "<ul> Markdown cells</ul>\n",
    "<ul> Evaluation of mathematical expressions in python and </ul>\n",
    "<ul> Converting minutes to hours and minuates using divmod</ul>"
   ]
  },
  {
   "cell_type": "markdown",
   "id": "d2a04d70-b51b-4e73-a33e-8386320b8b8a",
   "metadata": {},
   "source": [
    "## Author\n",
    "Samir Paul"
   ]
  },
  {
   "cell_type": "markdown",
   "id": "19fae99b-d8f3-43be-8aab-f1322b7e7904",
   "metadata": {},
   "source": [
    "Some of the popular languages that Data Scientists use are:\n",
    "<ol> Python </ol>\n",
    "<ol> R</ol>\n",
    "<ol> Julia</ol>\n",
    "<ol> Scala etc</ol>"
   ]
  },
  {
   "cell_type": "markdown",
   "id": "93080d7e-d584-4a8b-a5e3-cab6c4684557",
   "metadata": {},
   "source": [
    "Some of the commonly used libraries used by Data Scientists include:\n",
    "<ol> Python </ol>\n",
    "<ol> Scipy</ol>\n",
    "<ol> Scikit-learn</ol>\n",
    "<ol> Tensorflow and</ol>\n",
    "<ol> PyTorch</ol>"
   ]
  },
  {
   "cell_type": "markdown",
   "id": "09adb616-ebf1-4d40-a15e-5a5940f137bb",
   "metadata": {},
   "source": [
    "<table>\n",
    "    <row> Data Science Tools </row>    \n",
    "</table>"
   ]
  },
  {
   "cell_type": "markdown",
   "id": "d363cd91-c2bd-49ef-be37-20bdf0fd84b3",
   "metadata": {},
   "source": [
    "|Data Science Tools|\n",
    "___\n",
    "|Jupyter Notebook  |\n",
    "___________________\n",
    "|Visual Studio Code|\n",
    "___________________\n",
    "|R Studio          |"
   ]
  },
  {
   "cell_type": "code",
   "execution_count": 3,
   "id": "79e2d547-8e11-4628-b673-195e583e53a8",
   "metadata": {},
   "outputs": [
    {
     "data": {
      "text/plain": [
       "17"
      ]
     },
     "execution_count": 3,
     "metadata": {},
     "output_type": "execute_result"
    }
   ],
   "source": [
    "(3*4)+5"
   ]
  },
  {
   "cell_type": "code",
   "execution_count": 8,
   "id": "8226030d-ea80-42fb-9d69-6d27892a2b85",
   "metadata": {},
   "outputs": [
    {
     "name": "stdout",
     "output_type": "stream",
     "text": [
      "3 hours and 20 minutes\n"
     ]
    }
   ],
   "source": [
    "mins = 200\n",
    "hr, m = divmod(mins,60)\n",
    "print(f\"{hr} hours and {m} minutes\")"
   ]
  },
  {
   "cell_type": "code",
   "execution_count": null,
   "id": "67e1869b-f9b6-4707-87ca-0bb55c3a18ef",
   "metadata": {},
   "outputs": [],
   "source": []
  }
 ],
 "metadata": {
  "kernelspec": {
   "display_name": "Python 3 (ipykernel)",
   "language": "python",
   "name": "python3"
  },
  "language_info": {
   "codemirror_mode": {
    "name": "ipython",
    "version": 3
   },
   "file_extension": ".py",
   "mimetype": "text/x-python",
   "name": "python",
   "nbconvert_exporter": "python",
   "pygments_lexer": "ipython3",
   "version": "3.11.0"
  }
 },
 "nbformat": 4,
 "nbformat_minor": 5
}
